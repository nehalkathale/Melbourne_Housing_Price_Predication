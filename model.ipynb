{
 "cells": [
  {
   "cell_type": "code",
   "execution_count": 1,
   "metadata": {},
   "outputs": [],
   "source": [
    "import numpy as np\n",
    "import pandas as pd\n",
    "import tensorflow as tf\n",
    "from tensorflow.keras import layers\n",
    "from sklearn.model_selection import train_test_split\n",
    "from sklearn.preprocessing import LabelEncoder\n",
    "from sklearn.preprocessing import StandardScaler"
   ]
  },
  {
   "cell_type": "code",
   "execution_count": 2,
   "metadata": {},
   "outputs": [
    {
     "data": {
      "text/html": [
       "<div>\n",
       "<style scoped>\n",
       "    .dataframe tbody tr th:only-of-type {\n",
       "        vertical-align: middle;\n",
       "    }\n",
       "\n",
       "    .dataframe tbody tr th {\n",
       "        vertical-align: top;\n",
       "    }\n",
       "\n",
       "    .dataframe thead th {\n",
       "        text-align: right;\n",
       "    }\n",
       "</style>\n",
       "<table border=\"1\" class=\"dataframe\">\n",
       "  <thead>\n",
       "    <tr style=\"text-align: right;\">\n",
       "      <th></th>\n",
       "      <th>Suburb</th>\n",
       "      <th>Rooms</th>\n",
       "      <th>Type</th>\n",
       "      <th>Price</th>\n",
       "      <th>SellerG</th>\n",
       "      <th>Distance</th>\n",
       "      <th>Bedroom2</th>\n",
       "      <th>Bathroom</th>\n",
       "      <th>Car</th>\n",
       "      <th>Landsize</th>\n",
       "      <th>BuildingArea</th>\n",
       "      <th>YearBuilt</th>\n",
       "      <th>CouncilArea</th>\n",
       "      <th>Regionname</th>\n",
       "    </tr>\n",
       "  </thead>\n",
       "  <tbody>\n",
       "    <tr>\n",
       "      <th>0</th>\n",
       "      <td>Abbotsford</td>\n",
       "      <td>2</td>\n",
       "      <td>h</td>\n",
       "      <td>1480000.0</td>\n",
       "      <td>Biggin</td>\n",
       "      <td>2.5</td>\n",
       "      <td>2.0</td>\n",
       "      <td>1.0</td>\n",
       "      <td>1.0</td>\n",
       "      <td>202.0</td>\n",
       "      <td>151.96765</td>\n",
       "      <td>0.0</td>\n",
       "      <td>Yarra</td>\n",
       "      <td>Northern Metropolitan</td>\n",
       "    </tr>\n",
       "    <tr>\n",
       "      <th>1</th>\n",
       "      <td>Abbotsford</td>\n",
       "      <td>2</td>\n",
       "      <td>h</td>\n",
       "      <td>1035000.0</td>\n",
       "      <td>Biggin</td>\n",
       "      <td>2.5</td>\n",
       "      <td>2.0</td>\n",
       "      <td>1.0</td>\n",
       "      <td>0.0</td>\n",
       "      <td>156.0</td>\n",
       "      <td>79.00000</td>\n",
       "      <td>1900.0</td>\n",
       "      <td>Yarra</td>\n",
       "      <td>Northern Metropolitan</td>\n",
       "    </tr>\n",
       "    <tr>\n",
       "      <th>2</th>\n",
       "      <td>Abbotsford</td>\n",
       "      <td>3</td>\n",
       "      <td>h</td>\n",
       "      <td>1465000.0</td>\n",
       "      <td>Biggin</td>\n",
       "      <td>2.5</td>\n",
       "      <td>3.0</td>\n",
       "      <td>2.0</td>\n",
       "      <td>0.0</td>\n",
       "      <td>134.0</td>\n",
       "      <td>150.00000</td>\n",
       "      <td>1900.0</td>\n",
       "      <td>Yarra</td>\n",
       "      <td>Northern Metropolitan</td>\n",
       "    </tr>\n",
       "    <tr>\n",
       "      <th>3</th>\n",
       "      <td>Abbotsford</td>\n",
       "      <td>3</td>\n",
       "      <td>h</td>\n",
       "      <td>850000.0</td>\n",
       "      <td>Biggin</td>\n",
       "      <td>2.5</td>\n",
       "      <td>3.0</td>\n",
       "      <td>2.0</td>\n",
       "      <td>1.0</td>\n",
       "      <td>94.0</td>\n",
       "      <td>151.96765</td>\n",
       "      <td>0.0</td>\n",
       "      <td>Yarra</td>\n",
       "      <td>Northern Metropolitan</td>\n",
       "    </tr>\n",
       "    <tr>\n",
       "      <th>4</th>\n",
       "      <td>Abbotsford</td>\n",
       "      <td>4</td>\n",
       "      <td>h</td>\n",
       "      <td>1600000.0</td>\n",
       "      <td>Nelson</td>\n",
       "      <td>2.5</td>\n",
       "      <td>3.0</td>\n",
       "      <td>1.0</td>\n",
       "      <td>2.0</td>\n",
       "      <td>120.0</td>\n",
       "      <td>142.00000</td>\n",
       "      <td>2014.0</td>\n",
       "      <td>Yarra</td>\n",
       "      <td>Northern Metropolitan</td>\n",
       "    </tr>\n",
       "  </tbody>\n",
       "</table>\n",
       "</div>"
      ],
      "text/plain": [
       "       Suburb  Rooms Type      Price SellerG  Distance  Bedroom2  Bathroom  \\\n",
       "0  Abbotsford      2    h  1480000.0  Biggin       2.5       2.0       1.0   \n",
       "1  Abbotsford      2    h  1035000.0  Biggin       2.5       2.0       1.0   \n",
       "2  Abbotsford      3    h  1465000.0  Biggin       2.5       3.0       2.0   \n",
       "3  Abbotsford      3    h   850000.0  Biggin       2.5       3.0       2.0   \n",
       "4  Abbotsford      4    h  1600000.0  Nelson       2.5       3.0       1.0   \n",
       "\n",
       "   Car  Landsize  BuildingArea  YearBuilt CouncilArea             Regionname  \n",
       "0  1.0     202.0     151.96765        0.0       Yarra  Northern Metropolitan  \n",
       "1  0.0     156.0      79.00000     1900.0       Yarra  Northern Metropolitan  \n",
       "2  0.0     134.0     150.00000     1900.0       Yarra  Northern Metropolitan  \n",
       "3  1.0      94.0     151.96765        0.0       Yarra  Northern Metropolitan  \n",
       "4  2.0     120.0     142.00000     2014.0       Yarra  Northern Metropolitan  "
      ]
     },
     "execution_count": 2,
     "metadata": {},
     "output_type": "execute_result"
    }
   ],
   "source": [
    "# Read CSV file\n",
    "data = pd.read_csv('melb_data.csv')\n",
    "\n",
    "# Drop useless features\n",
    "data.drop(['Address', 'Lattitude', 'Longtitude', 'Propertycount', 'Date', 'Postcode', 'Method'], axis=1, inplace=True)\n",
    "\n",
    "categorical_cols = ['Suburb', 'Type', 'SellerG', 'Regionname', 'CouncilArea', 'Rooms', 'YearBuilt']\n",
    "# Replace categorical NA with -\n",
    "for col in data.columns:\n",
    "    if col in categorical_cols:\n",
    "        if col == 'YearBuilt':\n",
    "            data[col].fillna(0, inplace=True)\n",
    "        else:\n",
    "            data[col].fillna('-', inplace=True)\n",
    "# Replace numerical NA with mean\n",
    "for col in data.columns:\n",
    "    if col not in categorical_cols:\n",
    "        data[col].fillna(data[col].mean(), inplace=True)\n",
    "\n",
    "data.head()"
   ]
  },
  {
   "cell_type": "code",
   "execution_count": 3,
   "metadata": {},
   "outputs": [],
   "source": [
    "mappings = {}\n",
    "# Convert categorical features to numeric\n",
    "for col in categorical_cols:\n",
    "    le = LabelEncoder()\n",
    "    le.fit(data[col])\n",
    "    mappings[col] = dict(zip(le.classes_, le.transform(le.classes_)))\n",
    "    data[col] = le.transform(data[col])\n",
    "data\n",
    "\n",
    "# Pickle mappings\n",
    "import pickle\n",
    "with open('mappings.pkl', 'wb') as f:\n",
    "    pickle.dump(mappings, f)\n"
   ]
  },
  {
   "cell_type": "code",
   "execution_count": 4,
   "metadata": {},
   "outputs": [
    {
     "name": "stdout",
     "output_type": "stream",
     "text": [
      "X_train.shape =  (10864, 13)\n",
      "y_train.shape =  (10864,)\n",
      "X_val.shape =  (2716, 13)\n",
      "y_val.shape =  (2716,)\n"
     ]
    }
   ],
   "source": [
    "X_scaler = StandardScaler()\n",
    "X_scaled = X_scaler.fit_transform(data.drop('Price', axis=1))\n",
    "X_train, X_test, y_train, y_test = train_test_split(X_scaled, data['Price'], test_size=0.2, random_state=42)\n",
    "print (\"X_train.shape = \", X_train.shape)\n",
    "print (\"y_train.shape = \", y_train.shape)\n",
    "print (\"X_val.shape = \", X_test.shape)\n",
    "print (\"y_val.shape = \", y_test.shape)"
   ]
  },
  {
   "cell_type": "code",
   "execution_count": 5,
   "metadata": {},
   "outputs": [],
   "source": [
    "def custom_loss_function(y_true, y_pred):    \n",
    "    y_diff = tf.abs(tf.math.log(1+y_true) - tf.math.log(1+y_pred))    \n",
    "    return tf.reduce_sum(tf.square(y_diff)) / tf.cast(tf.size(y_diff), tf.float32)"
   ]
  },
  {
   "cell_type": "code",
   "execution_count": 6,
   "metadata": {},
   "outputs": [],
   "source": [
    "model2 = tf.keras.Sequential([\n",
    "    layers.Dense(128, activation='relu'),\n",
    "    layers.Dropout(0.4),\n",
    "    layers.Dense(64, activation='relu'),\n",
    "    layers.Dropout(0.2),\n",
    "    layers.Dense(32, activation='relu'),\n",
    "    layers.Dense(1)\n",
    "])\n",
    "model2.compile(optimizer='adam', loss=custom_loss_function, metrics=['mae'])"
   ]
  },
  {
   "cell_type": "code",
   "execution_count": 7,
   "metadata": {},
   "outputs": [
    {
     "name": "stdout",
     "output_type": "stream",
     "text": [
      "Epoch 1/10\n",
      "5432/5432 [==============================] - 12s 2ms/step - loss: 19.5974 - mae: 977816.0625 - val_loss: 1.1576 - val_mae: 716877.5625\n",
      "Epoch 2/10\n",
      "5432/5432 [==============================] - 12s 2ms/step - loss: 0.3535 - mae: 441681.3750 - val_loss: 0.1375 - val_mae: 314057.7500\n",
      "Epoch 3/10\n",
      "5432/5432 [==============================] - 11s 2ms/step - loss: 0.1453 - mae: 323885.0938 - val_loss: 0.1131 - val_mae: 293183.3750\n",
      "Epoch 4/10\n",
      "5432/5432 [==============================] - 11s 2ms/step - loss: 0.1314 - mae: 315143.2188 - val_loss: 0.1083 - val_mae: 287413.9375\n",
      "Epoch 5/10\n",
      "5432/5432 [==============================] - 11s 2ms/step - loss: 0.1269 - mae: 310168.8750 - val_loss: 0.1056 - val_mae: 285117.4062\n",
      "Epoch 6/10\n",
      "5432/5432 [==============================] - 10s 2ms/step - loss: 0.1227 - mae: 304499.4375 - val_loss: 0.1042 - val_mae: 283145.4375\n",
      "Epoch 7/10\n",
      "5432/5432 [==============================] - 10s 2ms/step - loss: 0.1216 - mae: 304609.9375 - val_loss: 0.1018 - val_mae: 279361.3750\n",
      "Epoch 8/10\n",
      "5432/5432 [==============================] - 10s 2ms/step - loss: 0.1196 - mae: 301437.0938 - val_loss: 0.1019 - val_mae: 279893.6875\n",
      "Epoch 9/10\n",
      "5432/5432 [==============================] - 10s 2ms/step - loss: 0.1178 - mae: 299356.0938 - val_loss: 0.1006 - val_mae: 278191.1250\n",
      "Epoch 10/10\n",
      "5432/5432 [==============================] - 10s 2ms/step - loss: 0.1172 - mae: 299126.7188 - val_loss: 0.0993 - val_mae: 276489.8125\n"
     ]
    },
    {
     "data": {
      "text/plain": [
       "<keras.callbacks.History at 0x173903e68b0>"
      ]
     },
     "execution_count": 7,
     "metadata": {},
     "output_type": "execute_result"
    }
   ],
   "source": [
    "model2.fit(X_train, y_train, epochs=10, batch_size=2, verbose=1, validation_data=(X_test,y_test))"
   ]
  },
  {
   "cell_type": "code",
   "execution_count": 8,
   "metadata": {},
   "outputs": [
    {
     "name": "stdout",
     "output_type": "stream",
     "text": [
      "85/85 [==============================] - 0s 816us/step\n",
      "[2600000.  620000. 1000000. ... 2450000. 1155000. 1040000.] [[1503428.6 ]\n",
      " [ 587361.4 ]\n",
      " [ 682262.44]\n",
      " ...\n",
      " [1896631.2 ]\n",
      " [1725706.4 ]\n",
      " [ 926538.75]]\n"
     ]
    }
   ],
   "source": [
    "y_pred = model2.predict(X_test)\n",
    "print(y_test.to_numpy(), y_pred)"
   ]
  },
  {
   "cell_type": "code",
   "execution_count": 9,
   "metadata": {},
   "outputs": [],
   "source": [
    "model = tf.keras.Sequential()\n",
    "model.add(tf.keras.layers.Dense(100,activation='relu'))\n",
    "model.add(tf.keras.layers.Dropout(0.4))\n",
    "model.add(tf.keras.layers.Dense(50,activation='sigmoid'))\n",
    "model.add(tf.keras.layers.Dropout(0.2))\n",
    "model.add(tf.keras.layers.Dense(50,activation='relu'))\n",
    "model.add(tf.keras.layers.Dropout(0.2))\n",
    "model.add(tf.keras.layers.Dense(10,activation='relu'))\n",
    "model.add(tf.keras.layers.Dense(10,activation='relu'))\n",
    "model.add(tf.keras.layers.Dense(1))"
   ]
  },
  {
   "cell_type": "code",
   "execution_count": 10,
   "metadata": {},
   "outputs": [
    {
     "name": "stdout",
     "output_type": "stream",
     "text": [
      "Epoch 1/50\n",
      "340/340 [==============================] - 1s 3ms/step - loss: 91.8683 - val_loss: 53.6969\n",
      "Epoch 2/50\n",
      "340/340 [==============================] - 1s 3ms/step - loss: 42.4723 - val_loss: 34.0400\n",
      "Epoch 3/50\n",
      "340/340 [==============================] - 1s 2ms/step - loss: 28.9433 - val_loss: 24.4992\n",
      "Epoch 4/50\n",
      "340/340 [==============================] - 1s 3ms/step - loss: 21.3699 - val_loss: 18.5163\n",
      "Epoch 5/50\n",
      "340/340 [==============================] - 1s 3ms/step - loss: 16.3881 - val_loss: 14.3442\n",
      "Epoch 6/50\n",
      "340/340 [==============================] - 1s 3ms/step - loss: 12.7863 - val_loss: 11.2665\n",
      "Epoch 7/50\n",
      "340/340 [==============================] - 1s 3ms/step - loss: 10.0892 - val_loss: 8.9146\n",
      "Epoch 8/50\n",
      "340/340 [==============================] - 1s 2ms/step - loss: 8.0087 - val_loss: 7.0749\n",
      "Epoch 9/50\n",
      "340/340 [==============================] - 1s 2ms/step - loss: 6.3725 - val_loss: 5.6142\n",
      "Epoch 10/50\n",
      "340/340 [==============================] - 1s 2ms/step - loss: 5.0512 - val_loss: 4.4458\n",
      "Epoch 11/50\n",
      "340/340 [==============================] - 1s 2ms/step - loss: 3.9992 - val_loss: 3.5033\n",
      "Epoch 12/50\n",
      "340/340 [==============================] - 1s 2ms/step - loss: 3.1542 - val_loss: 2.7457\n",
      "Epoch 13/50\n",
      "340/340 [==============================] - 1s 2ms/step - loss: 2.4788 - val_loss: 2.1379\n",
      "Epoch 14/50\n",
      "340/340 [==============================] - 1s 2ms/step - loss: 1.9201 - val_loss: 1.6555\n",
      "Epoch 15/50\n",
      "340/340 [==============================] - 1s 3ms/step - loss: 1.4909 - val_loss: 1.2503\n",
      "Epoch 16/50\n",
      "340/340 [==============================] - 1s 3ms/step - loss: 1.0496 - val_loss: 0.8187\n",
      "Epoch 17/50\n",
      "340/340 [==============================] - 1s 2ms/step - loss: 0.7066 - val_loss: 0.5680\n",
      "Epoch 18/50\n",
      "340/340 [==============================] - 1s 2ms/step - loss: 0.5174 - val_loss: 0.4252\n",
      "Epoch 19/50\n",
      "340/340 [==============================] - 1s 2ms/step - loss: 0.4078 - val_loss: 0.3471\n",
      "Epoch 20/50\n",
      "340/340 [==============================] - 1s 2ms/step - loss: 0.3518 - val_loss: 0.3057\n",
      "Epoch 21/50\n",
      "340/340 [==============================] - 1s 3ms/step - loss: 0.3217 - val_loss: 0.2860\n",
      "Epoch 22/50\n",
      "340/340 [==============================] - 1s 3ms/step - loss: 0.3053 - val_loss: 0.2777\n",
      "Epoch 23/50\n",
      "340/340 [==============================] - 1s 3ms/step - loss: 0.2965 - val_loss: 0.2745\n",
      "Epoch 24/50\n",
      "340/340 [==============================] - 1s 3ms/step - loss: 0.2989 - val_loss: 0.2736\n",
      "Epoch 25/50\n",
      "340/340 [==============================] - 1s 3ms/step - loss: 0.2988 - val_loss: 0.2733\n",
      "Epoch 26/50\n",
      "340/340 [==============================] - 1s 3ms/step - loss: 0.2974 - val_loss: 0.2733\n",
      "Epoch 27/50\n",
      "340/340 [==============================] - 1s 3ms/step - loss: 0.2964 - val_loss: 0.2732\n",
      "Epoch 28/50\n",
      "340/340 [==============================] - 1s 3ms/step - loss: 0.2869 - val_loss: 0.1993\n",
      "Epoch 29/50\n",
      "340/340 [==============================] - 1s 3ms/step - loss: 0.1985 - val_loss: 0.1580\n",
      "Epoch 30/50\n",
      "340/340 [==============================] - 1s 2ms/step - loss: 0.1705 - val_loss: 0.1360\n",
      "Epoch 31/50\n",
      "340/340 [==============================] - 1s 2ms/step - loss: 0.1542 - val_loss: 0.1232\n",
      "Epoch 32/50\n",
      "340/340 [==============================] - 1s 2ms/step - loss: 0.1447 - val_loss: 0.1155\n",
      "Epoch 33/50\n",
      "340/340 [==============================] - 1s 2ms/step - loss: 0.1389 - val_loss: 0.1106\n",
      "Epoch 34/50\n",
      "340/340 [==============================] - 1s 2ms/step - loss: 0.1351 - val_loss: 0.1065\n",
      "Epoch 35/50\n",
      "340/340 [==============================] - 1s 2ms/step - loss: 0.1308 - val_loss: 0.1038\n",
      "Epoch 36/50\n",
      "340/340 [==============================] - 1s 2ms/step - loss: 0.1268 - val_loss: 0.1018\n",
      "Epoch 37/50\n",
      "340/340 [==============================] - 1s 2ms/step - loss: 0.1257 - val_loss: 0.0996\n",
      "Epoch 38/50\n",
      "340/340 [==============================] - 1s 2ms/step - loss: 0.1247 - val_loss: 0.0977\n",
      "Epoch 39/50\n",
      "340/340 [==============================] - 1s 2ms/step - loss: 0.1224 - val_loss: 0.0965\n",
      "Epoch 40/50\n",
      "340/340 [==============================] - 1s 2ms/step - loss: 0.1215 - val_loss: 0.0953\n",
      "Epoch 41/50\n",
      "340/340 [==============================] - 1s 2ms/step - loss: 0.1202 - val_loss: 0.0941\n",
      "Epoch 42/50\n",
      "340/340 [==============================] - 1s 2ms/step - loss: 0.1187 - val_loss: 0.0928\n",
      "Epoch 43/50\n",
      "340/340 [==============================] - 1s 2ms/step - loss: 0.1175 - val_loss: 0.0919\n",
      "Epoch 44/50\n",
      "340/340 [==============================] - 1s 2ms/step - loss: 0.1137 - val_loss: 0.0905\n",
      "Epoch 45/50\n",
      "340/340 [==============================] - 1s 2ms/step - loss: 0.1142 - val_loss: 0.0891\n",
      "Epoch 46/50\n",
      "340/340 [==============================] - 1s 2ms/step - loss: 0.1133 - val_loss: 0.0875\n",
      "Epoch 47/50\n",
      "340/340 [==============================] - 1s 2ms/step - loss: 0.1094 - val_loss: 0.0852\n",
      "Epoch 48/50\n",
      "340/340 [==============================] - 1s 2ms/step - loss: 0.1073 - val_loss: 0.0829\n",
      "Epoch 49/50\n",
      "340/340 [==============================] - 1s 2ms/step - loss: 0.1042 - val_loss: 0.0801\n",
      "Epoch 50/50\n",
      "340/340 [==============================] - 1s 2ms/step - loss: 0.1022 - val_loss: 0.0772\n"
     ]
    }
   ],
   "source": [
    "model.compile(optimizer='adam',\n",
    "              loss=custom_loss_function)\n",
    "history = model.fit(X_train,y_train,\n",
    "                    batch_size=32,\n",
    "                    epochs=50,\n",
    "                    validation_data=(X_test,y_test))"
   ]
  },
  {
   "cell_type": "code",
   "execution_count": 11,
   "metadata": {},
   "outputs": [
    {
     "name": "stdout",
     "output_type": "stream",
     "text": [
      "85/85 [==============================] - 0s 798us/step\n",
      "[2600000.  620000. 1000000. ... 2450000. 1155000. 1040000.] [1688972.2   551336.8   754508.9  ... 2083097.8  1408451.8   869220.94]\n",
      "MAE: 242028.074\n"
     ]
    }
   ],
   "source": [
    "y_pred = model.predict(X_test).flatten()\n",
    "print(y_test.to_numpy(), y_pred)\n",
    "\n",
    "# calculate MAE of the model\n",
    "from sklearn.metrics import mean_absolute_error\n",
    "mae = mean_absolute_error(y_test, y_pred)\n",
    "print('MAE: %.3f' % mae)"
   ]
  },
  {
   "cell_type": "code",
   "execution_count": 12,
   "metadata": {},
   "outputs": [],
   "source": [
    "model.save('Model1.h5')\n",
    "model2.save('Model2.h5')"
   ]
  }
 ],
 "metadata": {
  "kernelspec": {
   "display_name": "Python 3.8.13 ('environment')",
   "language": "python",
   "name": "python3"
  },
  "language_info": {
   "codemirror_mode": {
    "name": "ipython",
    "version": 3
   },
   "file_extension": ".py",
   "mimetype": "text/x-python",
   "name": "python",
   "nbconvert_exporter": "python",
   "pygments_lexer": "ipython3",
   "version": "3.8.13"
  },
  "vscode": {
   "interpreter": {
    "hash": "ec7f2b476c41e31515b94840bd7dbd7a087cfb22685bb0c7a54d64a1b0f3067a"
   }
  }
 },
 "nbformat": 4,
 "nbformat_minor": 4
}
